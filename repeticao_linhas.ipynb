{
 "cells": [
  {
   "cell_type": "code",
   "execution_count": 1,
   "metadata": {},
   "outputs": [],
   "source": [
    "import pandas as pd"
   ]
  },
  {
   "cell_type": "code",
   "execution_count": 4,
   "metadata": {},
   "outputs": [],
   "source": [
    "df = pd.read_excel (r'\\\\masrv059\\SIG_Mensuração\\Inventário\\05 - IFQ\\yuri\\IFQ 2020\\Recomendação_IFQ2020.xlsx',sheet_name = \"Plan2\")"
   ]
  },
  {
   "cell_type": "code",
   "execution_count": 5,
   "metadata": {},
   "outputs": [
    {
     "data": {
      "text/html": [
       "<div>\n",
       "<style scoped>\n",
       "    .dataframe tbody tr th:only-of-type {\n",
       "        vertical-align: middle;\n",
       "    }\n",
       "\n",
       "    .dataframe tbody tr th {\n",
       "        vertical-align: top;\n",
       "    }\n",
       "\n",
       "    .dataframe thead th {\n",
       "        text-align: right;\n",
       "    }\n",
       "</style>\n",
       "<table border=\"1\" class=\"dataframe\">\n",
       "  <thead>\n",
       "    <tr style=\"text-align: right;\">\n",
       "      <th></th>\n",
       "      <th>CENTRO</th>\n",
       "      <th>Tipo utiliz.da UL</th>\n",
       "      <th>Terreno</th>\n",
       "      <th>Objeto de locação</th>\n",
       "      <th>Denom.objeto locação</th>\n",
       "      <th>Status</th>\n",
       "      <th>Área Efetivo Plantio</th>\n",
       "      <th>Área Plantada (ha)</th>\n",
       "      <th>Área colhida (ha)</th>\n",
       "      <th>Área Plantada Falha/Resíduo HA</th>\n",
       "      <th>...</th>\n",
       "      <th>Data de Plantio</th>\n",
       "      <th>Certificação FSC</th>\n",
       "      <th>Espaçamento entre Linhas</th>\n",
       "      <th>Espaçamento entre Plantas</th>\n",
       "      <th>Projeto Silvicultura</th>\n",
       "      <th>Rotação</th>\n",
       "      <th>Data de Inicio</th>\n",
       "      <th>Espécies</th>\n",
       "      <th>Clone Semente</th>\n",
       "      <th>Nº Parcelas</th>\n",
       "    </tr>\n",
       "  </thead>\n",
       "  <tbody>\n",
       "    <tr>\n",
       "      <th>0</th>\n",
       "      <td>MA02</td>\n",
       "      <td>Própria</td>\n",
       "      <td>CLG</td>\n",
       "      <td>CLGB2A</td>\n",
       "      <td>Lageado Bonito</td>\n",
       "      <td>Plantado</td>\n",
       "      <td>3.944</td>\n",
       "      <td>3.944</td>\n",
       "      <td>0.0</td>\n",
       "      <td>0.0</td>\n",
       "      <td>...</td>\n",
       "      <td>43627</td>\n",
       "      <td>X</td>\n",
       "      <td>3.5</td>\n",
       "      <td>2.14</td>\n",
       "      <td>SM010.RE.E2019.001</td>\n",
       "      <td>1</td>\n",
       "      <td>43514</td>\n",
       "      <td>EUG</td>\n",
       "      <td>CL AEC 0144</td>\n",
       "      <td>1</td>\n",
       "    </tr>\n",
       "    <tr>\n",
       "      <th>1</th>\n",
       "      <td>MA02</td>\n",
       "      <td>Própria</td>\n",
       "      <td>CLG</td>\n",
       "      <td>CLGB3A</td>\n",
       "      <td>Lageado Bonito</td>\n",
       "      <td>Plantado</td>\n",
       "      <td>0.494</td>\n",
       "      <td>0.494</td>\n",
       "      <td>0.0</td>\n",
       "      <td>0.0</td>\n",
       "      <td>...</td>\n",
       "      <td>43627</td>\n",
       "      <td>X</td>\n",
       "      <td>3.5</td>\n",
       "      <td>2.14</td>\n",
       "      <td>SMA02.RE.E2019.001</td>\n",
       "      <td>1</td>\n",
       "      <td>43514</td>\n",
       "      <td>EUG</td>\n",
       "      <td>CL AEC 0144</td>\n",
       "      <td>0</td>\n",
       "    </tr>\n",
       "    <tr>\n",
       "      <th>2</th>\n",
       "      <td>MA02</td>\n",
       "      <td>Própria</td>\n",
       "      <td>CLG</td>\n",
       "      <td>CLGB4A</td>\n",
       "      <td>Lageado Bonito</td>\n",
       "      <td>Plantado</td>\n",
       "      <td>16.519</td>\n",
       "      <td>16.519</td>\n",
       "      <td>0.0</td>\n",
       "      <td>0.0</td>\n",
       "      <td>...</td>\n",
       "      <td>43623</td>\n",
       "      <td>X</td>\n",
       "      <td>3.5</td>\n",
       "      <td>2.14</td>\n",
       "      <td>SM010.RE.E2019.001</td>\n",
       "      <td>1</td>\n",
       "      <td>43510</td>\n",
       "      <td>EUG</td>\n",
       "      <td>CL AEC 0042</td>\n",
       "      <td>3</td>\n",
       "    </tr>\n",
       "    <tr>\n",
       "      <th>3</th>\n",
       "      <td>MA02</td>\n",
       "      <td>Própria</td>\n",
       "      <td>CLG</td>\n",
       "      <td>CLGB5A</td>\n",
       "      <td>Lageado Bonito</td>\n",
       "      <td>Plantado</td>\n",
       "      <td>12.032</td>\n",
       "      <td>12.032</td>\n",
       "      <td>0.0</td>\n",
       "      <td>0.0</td>\n",
       "      <td>...</td>\n",
       "      <td>43620</td>\n",
       "      <td>X</td>\n",
       "      <td>3.4</td>\n",
       "      <td>2.20</td>\n",
       "      <td>SM010.RE.E2019.001</td>\n",
       "      <td>1</td>\n",
       "      <td>43511</td>\n",
       "      <td>EUG</td>\n",
       "      <td>CL AEC 0042</td>\n",
       "      <td>2</td>\n",
       "    </tr>\n",
       "    <tr>\n",
       "      <th>4</th>\n",
       "      <td>MA02</td>\n",
       "      <td>Própria</td>\n",
       "      <td>CLG</td>\n",
       "      <td>CLGB6A</td>\n",
       "      <td>Lageado Bonito</td>\n",
       "      <td>Plantado</td>\n",
       "      <td>0.371</td>\n",
       "      <td>0.371</td>\n",
       "      <td>0.0</td>\n",
       "      <td>0.0</td>\n",
       "      <td>...</td>\n",
       "      <td>43619</td>\n",
       "      <td>X</td>\n",
       "      <td>3.4</td>\n",
       "      <td>2.20</td>\n",
       "      <td>SM010.RE.E2019.001</td>\n",
       "      <td>1</td>\n",
       "      <td>43514</td>\n",
       "      <td>EUG</td>\n",
       "      <td>CL AEC 0042</td>\n",
       "      <td>0</td>\n",
       "    </tr>\n",
       "  </tbody>\n",
       "</table>\n",
       "<p>5 rows × 27 columns</p>\n",
       "</div>"
      ],
      "text/plain": [
       "  CENTRO Tipo utiliz.da UL Terreno Objeto de locação Denom.objeto locação  \\\n",
       "0   MA02           Própria     CLG            CLGB2A       Lageado Bonito   \n",
       "1   MA02           Própria     CLG            CLGB3A       Lageado Bonito   \n",
       "2   MA02           Própria     CLG            CLGB4A       Lageado Bonito   \n",
       "3   MA02           Própria     CLG            CLGB5A       Lageado Bonito   \n",
       "4   MA02           Própria     CLG            CLGB6A       Lageado Bonito   \n",
       "\n",
       "     Status  Área Efetivo Plantio  Área Plantada (ha)  Área colhida (ha)  \\\n",
       "0  Plantado                 3.944               3.944                0.0   \n",
       "1  Plantado                 0.494               0.494                0.0   \n",
       "2  Plantado                16.519              16.519                0.0   \n",
       "3  Plantado                12.032              12.032                0.0   \n",
       "4  Plantado                 0.371               0.371                0.0   \n",
       "\n",
       "   Área Plantada Falha/Resíduo HA     ...       Data de Plantio  \\\n",
       "0                             0.0     ...                 43627   \n",
       "1                             0.0     ...                 43627   \n",
       "2                             0.0     ...                 43623   \n",
       "3                             0.0     ...                 43620   \n",
       "4                             0.0     ...                 43619   \n",
       "\n",
       "  Certificação FSC Espaçamento entre Linhas Espaçamento entre Plantas  \\\n",
       "0                X                      3.5                      2.14   \n",
       "1                X                      3.5                      2.14   \n",
       "2                X                      3.5                      2.14   \n",
       "3                X                      3.4                      2.20   \n",
       "4                X                      3.4                      2.20   \n",
       "\n",
       "  Projeto Silvicultura Rotação  Data de Inicio  Espécies Clone Semente  \\\n",
       "0   SM010.RE.E2019.001       1           43514       EUG   CL AEC 0144   \n",
       "1   SMA02.RE.E2019.001       1           43514       EUG   CL AEC 0144   \n",
       "2   SM010.RE.E2019.001       1           43510       EUG   CL AEC 0042   \n",
       "3   SM010.RE.E2019.001       1           43511       EUG   CL AEC 0042   \n",
       "4   SM010.RE.E2019.001       1           43514       EUG   CL AEC 0042   \n",
       "\n",
       "   Nº Parcelas  \n",
       "0            1  \n",
       "1            0  \n",
       "2            3  \n",
       "3            2  \n",
       "4            0  \n",
       "\n",
       "[5 rows x 27 columns]"
      ]
     },
     "execution_count": 5,
     "metadata": {},
     "output_type": "execute_result"
    }
   ],
   "source": [
    "df.head()"
   ]
  },
  {
   "cell_type": "code",
   "execution_count": 9,
   "metadata": {},
   "outputs": [],
   "source": [
    "df2 = df.loc[df.index.repeat(df['Nº Parcelas'])]"
   ]
  },
  {
   "cell_type": "code",
   "execution_count": 10,
   "metadata": {},
   "outputs": [],
   "source": [
    "df2.to_excel(r'\\\\masrv059\\SIG_Mensuração\\Inventário\\05 - IFQ\\yuri\\IFQ 2020\\carga.xls')"
   ]
  },
  {
   "cell_type": "code",
   "execution_count": 11,
   "metadata": {},
   "outputs": [
    {
     "data": {
      "text/plain": [
       "(1687, 27)"
      ]
     },
     "execution_count": 11,
     "metadata": {},
     "output_type": "execute_result"
    }
   ],
   "source": [
    "df.shape"
   ]
  },
  {
   "cell_type": "code",
   "execution_count": 13,
   "metadata": {},
   "outputs": [
    {
     "data": {
      "text/plain": [
       "(3275, 27)"
      ]
     },
     "execution_count": 13,
     "metadata": {},
     "output_type": "execute_result"
    }
   ],
   "source": [
    "df2.shape"
   ]
  },
  {
   "cell_type": "code",
   "execution_count": null,
   "metadata": {},
   "outputs": [],
   "source": []
  }
 ],
 "metadata": {
  "kernelspec": {
   "display_name": "Python 3",
   "language": "python",
   "name": "python3"
  },
  "language_info": {
   "codemirror_mode": {
    "name": "ipython",
    "version": 3
   },
   "file_extension": ".py",
   "mimetype": "text/x-python",
   "name": "python",
   "nbconvert_exporter": "python",
   "pygments_lexer": "ipython3",
   "version": "3.6.6"
  }
 },
 "nbformat": 4,
 "nbformat_minor": 2
}
